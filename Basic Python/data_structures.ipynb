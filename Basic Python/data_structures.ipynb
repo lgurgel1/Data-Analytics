{
  "nbformat": 4,
  "nbformat_minor": 0,
  "metadata": {
    "colab": {
      "provenance": [],
      "toc_visible": true
    },
    "kernelspec": {
      "name": "python3",
      "display_name": "Python 3"
    }
  },
  "cells": [
    {
      "cell_type": "markdown",
      "metadata": {
        "id": "KJqp9AANOCtf"
      },
      "source": [
        "<img src=\"https://raw.githubusercontent.com/andre-marcos-perez/ebac-course-utils/main/media/logo/newebac_logo_black_half.png\" alt=\"ebac-logo\">\n",
        "\n",
        "---\n",
        "\n",
        "# **Módulo** | Python: Estruturas de Dados\n",
        "Caderno de **Exercícios**<br>\n",
        "Professor [André Perez](https://www.linkedin.com/in/andremarcosperez/)\n",
        "\n",
        "---"
      ]
    },
    {
      "cell_type": "markdown",
      "metadata": {
        "id": "d9jDtUbDOE1-"
      },
      "source": [
        "# **Tópicos**\n",
        "\n",
        "<ol type=\"1\">\n",
        "  <li>Listas;</li>\n",
        "  <li>Conjuntos;</li>\n",
        "  <li>Dicionários.</li>\n",
        "</ol>"
      ]
    },
    {
      "cell_type": "markdown",
      "metadata": {
        "id": "SmoHgt-lwkpD"
      },
      "source": [
        "---"
      ]
    },
    {
      "cell_type": "markdown",
      "metadata": {
        "id": "GABI6OW8OfQ2"
      },
      "source": [
        "# **Exercícios**"
      ]
    },
    {
      "cell_type": "markdown",
      "metadata": {
        "id": "muD1vxozykSC"
      },
      "source": [
        "## 1\\. Listas"
      ]
    },
    {
      "cell_type": "markdown",
      "metadata": {
        "id": "ahrFfCuBxJKs"
      },
      "source": [
        "Criei uma lista chamada `filmes` com o nome dos 10 primeiros filmes mais bem avaliados no site no [IMDB](https://www.imdb.com/chart/top/). Imprima o resultado."
      ]
    },
    {
      "cell_type": "code",
      "metadata": {
        "id": "OgL6Hv3bzOHI",
        "colab": {
          "base_uri": "https://localhost:8080/"
        },
        "outputId": "1e6eb767-83f3-4e2a-f1c9-57a92e544459"
      },
      "source": [
        "filmes = []<br>\n",
        "filme_top1 = 'Um Sonho de liberdade'<br>\n",
        "filme_top2 = 'O poderoso chefao'<br>\n",
        "filme_top3 = 'Batman - O Cavaleiro das Trevas'<br>\n",
        "filme_top4 = 'O Poderoso Chefão 2'<br>\n",
        "filme_top5 = '12 Homens e Uma Sentença'<br>\n",
        "filme_top6 = 'A Lista de Schindler'<br>\n",
        "filme_top7 = 'O Senhor dos Anéis: O Retorno do Rei'<br>\n",
        "filme_top8 = 'Pulp Fiction - Tempo de Violência'<br>\n",
        "filme_top9 = 'O Senhor dos Anéis: A Sociedade do Anel'<br>\n",
        "filme_top10 = 'Três Homens em Conflito'<br>\n",
        "filmes.append(filme_top1)<br>\n",
        "filmes.append(filme_top2)<br>\n",
        "filmes.append(filme_top3)<br>\n",
        "filmes.append(filme_top4)<br>\n",
        "filmes.append(filme_top5)<br>\n",
        "filmes.append(filme_top6)<br>\n",
        "filmes.append(filme_top7)<br>\n",
        "filmes.append(filme_top8)<br>\n",
        "filmes.append(filme_top9)<br>\n",
        "filmes.append(filme_top10)<br>\n",
        "print(filmes)"
      ],
      "execution_count": null,
      "outputs": [
        {
          "output_type": "stream",
          "name": "stdout",
          "text": [
            "['Um Sonho de liberdade', 'O poderoso chefao', 'Batman - O Cavaleiro das Trevas', 'O Poderoso Chefão 2', '12 Homens e Uma Sentença', 'A Lista de Schindler', 'O Senhor dos Anéis: O Retorno do Rei', 'Pulp Fiction - Tempo de Violência', 'O Senhor dos Anéis: A Sociedade do Anel', 'Três Homens em Conflito']\n"
          ]
        }
      ]
    },
    {
      "cell_type": "markdown",
      "metadata": {
        "id": "KI9zQRT2xa7m"
      },
      "source": [
        "Simule a movimentação do *ranking*. Utilize os métodos `insert` e `pop` para trocar a posição do primeiro e do segundo filme da lista. Imprima o resultado.\n",
        "\n"
      ]
    },
    {
      "cell_type": "code",
      "source": [
        "filmes.pop(0)<br>\n",
        "filmes.pop(0)<br>\n",
        "filmes.insert(0, 'O poderoso chefao')<br>\n",
        "filmes.insert(1, 'Um Sonho de liberdade')<br>\n",
        "print(filmes)\n"
      ],
      "metadata": {
        "colab": {
          "base_uri": "https://localhost:8080/"
        },
        "id": "4G7SmHzSJIn4",
        "outputId": "e5cb82bb-706b-46a2-9738-dd700a508003"
      },
      "execution_count": null,
      "outputs": [
        {
          "output_type": "stream",
          "name": "stdout",
          "text": [
            "['O poderoso chefao', 'Um Sonho de liberdade', 'Batman - O Cavaleiro das Trevas', 'O Poderoso Chefão 2', '12 Homens e Uma Sentença', 'A Lista de Schindler', 'O Senhor dos Anéis: O Retorno do Rei', 'Pulp Fiction - Tempo de Violência', 'O Senhor dos Anéis: A Sociedade do Anel', 'Três Homens em Conflito']\n"
          ]
        }
      ]
    },
    {
      "cell_type": "markdown",
      "metadata": {
        "id": "zMN1Q3jdwoJm"
      },
      "source": [
        "---"
      ]
    },
    {
      "cell_type": "markdown",
      "metadata": {
        "id": "lxa5L6uF0ZJE"
      },
      "source": [
        "## 2\\. Conjuntos"
      ]
    },
    {
      "cell_type": "markdown",
      "metadata": {
        "id": "9JahS2Kj0d5u"
      },
      "source": [
        "Aconteceu um erro no seu *ranking*. Simule a duplicação dos três últimos filmes da lista. Imprima o resultado."
      ]
    },
    {
      "cell_type": "code",
      "metadata": {
        "id": "BnjnLBNC6PGe",
        "colab": {
          "base_uri": "https://localhost:8080/"
        },
        "outputId": "5de29aaa-c26b-4b5b-c2bf-0fa2e12cff33"
      },
      "source": [
        "\n",
        "filmes.append(filme_top8)<br>\n",
        "filmes.append(filme_top9)<br>\n",
        "filmes.append(filme_top10)<br>\n",
        "print(filmes)"
      ],
      "execution_count": null,
      "outputs": [
        {
          "output_type": "stream",
          "name": "stdout",
          "text": [
            "['O poderoso chefao', 'Um Sonho de liberdade', 'Batman - O Cavaleiro das Trevas', 'O Poderoso Chefão 2', '12 Homens e Uma Sentença', 'A Lista de Schindler', 'O Senhor dos Anéis: O Retorno do Rei', 'Pulp Fiction - Tempo de Violência', 'O Senhor dos Anéis: A Sociedade do Anel', 'Três Homens em Conflito', 'Pulp Fiction - Tempo de Violência', 'O Senhor dos Anéis: A Sociedade do Anel', 'Três Homens em Conflito']\n"
          ]
        }
      ]
    },
    {
      "cell_type": "markdown",
      "metadata": {
        "id": "suxTfCJB6ZiX"
      },
      "source": [
        "Utiliza a conversão `set` e `list` para remover os valores duplicados. Imprima o resultado."
      ]
    },
    {
      "cell_type": "code",
      "metadata": {
        "id": "ZvUGN-0n6joM",
        "colab": {
          "base_uri": "https://localhost:8080/"
        },
        "outputId": "17c4cb0a-e7aa-4f9b-8818-3be9ff580615"
      },
      "source": [
        "filmes = list(set(filmes))<br>\n",
        "print(filmes)<br>\n",
        "\n"
      ],
      "execution_count": null,
      "outputs": [
        {
          "output_type": "stream",
          "name": "stdout",
          "text": [
            "['Um Sonho de liberdade', 'O poderoso chefao', 'Três Homens em Conflito', 'O Senhor dos Anéis: A Sociedade do Anel', 'Pulp Fiction - Tempo de Violência', 'O Poderoso Chefão 2', '12 Homens e Uma Sentença', 'O Senhor dos Anéis: O Retorno do Rei', 'Batman - O Cavaleiro das Trevas', 'A Lista de Schindler']\n"
          ]
        }
      ]
    },
    {
      "cell_type": "markdown",
      "metadata": {
        "id": "ShkK35eQ6pAM"
      },
      "source": [
        "---"
      ]
    },
    {
      "cell_type": "markdown",
      "metadata": {
        "id": "EL_FzmxL6rTv"
      },
      "source": [
        "## 3\\. Dicionários"
      ]
    },
    {
      "cell_type": "markdown",
      "metadata": {
        "id": "i8l0gFqRCpfT"
      },
      "source": [
        "Repita os exercícios da parte 1 (listas). Os elementos da lista `filmes` devem ser dicionários no seguinte formato: `{'nome': <nome-do-filme>, 'ano': <ano do filme>, 'sinopse': <sinopse do filme>}`."
      ]
    },
    {
      "cell_type": "code",
      "metadata": {
        "id": "tu6MSFwGDnHv",
        "colab": {
          "base_uri": "https://localhost:8080/",
          "height": 35
        },
        "outputId": "17aecac0-9918-4cc5-d894-dce0fd4df61d"
      },
      "source": [
        "\n",
        "dicionario_filmes = {\n",
        "    'filmes': {<br>\n",
        "        'top1': {<br>\n",
        "            'nome': 'Um Sonho de Liberdade',<br>\n",
        "            'ano': 1994,<br>\n",
        "            'sinopse': 'Dois homens presos se reúnem ao longo de vários anos, encontrando consolo e eventual redenção através de atos de decência comum.'<br>\n",
        "        },<br>\n",
        "        'top2': {<br>\n",
        "            'nome': 'O Poderoso Chefão',<br>\n",
        "            'ano': 1972,<br>\n",
        "            'sinopse': 'O patriarca idoso de uma dinastia do crime organizado transfere o controle de seu império clandestino para seu filho relutante.'<br>\n",
        "        },<br>\n",
        "        'top3': {<br>\n",
        "            'nome': 'Batman - O Cavaleiro das Trevas',<br>\n",
        "            'ano': 2008,<br>\n",
        "            'sinopse': 'Agora com a ajuda do tenente Jim Gordon e do promotor público Harvey Dent, Batman tem tudo para banir o crime de Gotham City de uma vez por todas.'<br>\n",
        "        },<br>\n",
        "        'top4': {<br>\n",
        "            'nome': 'O Poderoso Chefão II',<br>\n",
        "            'ano': 1974,<br>\n",
        "            'sinopse': 'Em 1950, Michael Corleone, agora à frente da família, tenta expandir o negócio do crime a Las Vegas, Los Angeles e Cuba. Paralelamente, é revelada a história de Vito Corleone, e de como saiu...'<br>\n",
        "        },<br>\n",
        "        'top5': {<br>\n",
        "            'nome': '12 Homens e uma Sentença',<br>\n",
        "            'ano': 1957,<br>\n",
        "            'sinopse': 'O julgamento de um assassinato em Nova Iorque é frustrado por um único membro, cujo ceticismo força o júri a considerar cuidadosamente as evidências antes de dar o veredito.'<br>\n",
        "        },<br>\n",
        "        'top6': {<br>\n",
        "            'nome': 'A Lista de Schindler',<br>\n",
        "            'ano': 1993,<br>\n",
        "            'sinopse': 'Na Polônia ocupada pelos alemães durante a Segunda Guerra Mundial, o industrial Oskar Schindler começa a ser preocupar com seus trabalhadores judeus depois de testemunhar sua perseguição pel...'<br>\n",
        "        },<br>\n",
        "        'top7': {<br>\n",
        "            'nome': 'O Senhor dos Anéis: O Retorno do Rei',<br>\n",
        "            'ano': 2003,<br>\n",
        "            'sinopse': 'Gandalf e Aragorn lideram o Mundo dos Homens contra o exército de Sauron para desviar o olhar de Frodo e Sam quando eles se aproximam à Montanha da Perdição com o Um Anel.'\n",
        "        },<br>\n",
        "        'top8': {<br>\n",
        "            'nome': 'Pulp Fiction - Tempo de Violência',<br>\n",
        "            'ano': 1994,<br>\n",
        "            'sinopse': 'As vidas de dois assassinos da máfia, um boxeador, um gângster e sua esposa, e um par de bandidos se entrelaçam em quatro histórias de violência e redenção.'<br>\n",
        "        },<br>\n",
        "        'top9': {<br>\n",
        "            'nome': 'O Senhor dos Anéis: A Sociedade do Anel',<br>\n",
        "            'ano': 2001,<br>\n",
        "            'sinopse': 'Um manso hobbit do Condado e oito companheiros partem em uma jornada para destruir o poderoso Um Anel e salvar a Terra-média das Trevas'<br>\n",
        "        },<br>\n",
        "        'top10': {<br>\n",
        "            'nome': 'Três Homens em Conflito',<br>\n",
        "            'ano': 1966,<br>\n",
        "            'sinopse': 'Um impostor se junta com dois homens para encontrar fortuna num remoto cemitério.'<br>\n",
        "        }<br>\n",
        "    }<br>\n",
        "}<br>\n",
        "<br>\n",
        "<br>\n",
        "dicionario_filmes['filmes']['top1']['nome']"
      ],
      "execution_count": 7,
      "outputs": [
        {
          "output_type": "execute_result",
          "data": {
            "text/plain": [
              "'Um Sonho de Liberdade'"
            ],
            "application/vnd.google.colaboratory.intrinsic+json": {
              "type": "string"
            }
          },
          "metadata": {},
          "execution_count": 7
        }
      ]
    }
  ]
}
