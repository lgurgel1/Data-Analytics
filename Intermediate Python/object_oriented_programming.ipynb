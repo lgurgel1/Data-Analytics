{
  "nbformat": 4,
  "nbformat_minor": 0,
  "metadata": {
    "colab": {
      "provenance": [],
      "toc_visible": true
    },
    "kernelspec": {
      "name": "python3",
      "display_name": "Python 3"
    }
  },
  "cells": [
    {
      "cell_type": "markdown",
      "metadata": {
        "id": "KJqp9AANOCtf"
      },
      "source": [
        "<img src=\"https://raw.githubusercontent.com/andre-marcos-perez/ebac-course-utils/main/media/logo/newebac_logo_black_half.png\" alt=\"ebac-logo\">\n",
        "\n",
        "---\n",
        "\n",
        "# **Módulo** | Python: Programação Orientada a Objetos\n",
        "Caderno de **Exercícios**<br>\n",
        "Professor [André Perez](https://www.linkedin.com/in/andremarcosperez/)\n",
        "\n",
        "---"
      ]
    },
    {
      "cell_type": "markdown",
      "metadata": {
        "id": "d9jDtUbDOE1-"
      },
      "source": [
        "# **Tópicos**\n",
        "\n",
        "<ol type=\"1\">\n",
        "  <li>Um pouco de teoria;</li>\n",
        "  <li>Classes;</li>\n",
        "  <li>Objetos;</li>\n",
        "  <li>Herança.</li>\n",
        "</ol>"
      ]
    },
    {
      "cell_type": "markdown",
      "metadata": {
        "id": "SmoHgt-lwkpD"
      },
      "source": [
        "---"
      ]
    },
    {
      "cell_type": "markdown",
      "metadata": {
        "id": "GABI6OW8OfQ2"
      },
      "source": [
        "# **Exercícios**"
      ]
    },
    {
      "cell_type": "markdown",
      "metadata": {
        "id": "syVczIAwGO3A"
      },
      "source": [
        "## 0\\. Preparação do ambiente"
      ]
    },
    {
      "cell_type": "markdown",
      "metadata": {
        "id": "2X3TrxdzGO3C"
      },
      "source": [
        "Neste exercício vamos trabalhar com os arquivos de csv e texto definidos abaixo. Execute cada uma das células de código para escrever os arquivos na sua máquina virtual."
      ]
    },
    {
      "cell_type": "markdown",
      "metadata": {
        "id": "u0uFuhRSq_hQ"
      },
      "source": [
        "* **carros.csv**: arquivo csv com informações sobre carros (venda, manutenção, portas, etc.)."
      ]
    },
    {
      "cell_type": "code",
      "metadata": {
        "id": "daMf-xaXqKs2",
        "colab": {
          "base_uri": "https://localhost:8080/"
        },
        "outputId": "543c7b2d-f4e8-4291-924b-70aedc6d2584"
      },
      "source": [
        "%%writefile carros.csv<br>\n",
        "id,valor_venda,valor_manutencao,portas,pessoas,porta_malas<br>\n",
        "1,vhigh,med,2,2,small<br>\n",
        "2,med,vhigh,2,2,small<br>\n",
        "3,low,vhigh,2,2,small<br>\n",
        "4,low,high,2,2,small<br>\n",
        "5,low,high,2,2,small<br>\n",
        "6,low,high,4,4,big<br>\n",
        "7,low,high,4,4,big<br>\n",
        "8,low,med,2,2,small<br>\n",
        "9,low,med,2,2,small<br>\n",
        "10,low,med,2,2,small<br>\n",
        "11,low,med,4,4,big<br>\n",
        "12,low,low,2,2,small<br>\n",
        "13,low,low,4,4,small<br>\n",
        "14,low,low,4,4,med<br>"
      ],
      "execution_count": 1,
      "outputs": [
        {
          "output_type": "stream",
          "name": "stdout",
          "text": [
            "Writing carros.csv\n"
          ]
        }
      ]
    },
    {
      "cell_type": "markdown",
      "metadata": {
        "id": "X0Z2PhbCrTz1"
      },
      "source": [
        "* **musica.txt**: arquivo texto com a letra da música Roda Viva do Chico Buarque."
      ]
    },
    {
      "cell_type": "code",
      "metadata": {
        "id": "m7Ge2rggrU73",
        "colab": {
          "base_uri": "https://localhost:8080/"
        },
        "outputId": "6393bef8-3c64-4dd1-9cff-2956a859dc95"
      },
      "source": [
        "%%writefile musica.txt<br>\n",
        "Roda Viva<br>\n",
        "Chico Buarque<br>\n",
        "<br>\n",
        "Tem dias que a gente se sente<br>\n",
        "Como quem partiu ou morreu<br>\n",
        "A gente estancou de repente<br>\n",
        "Ou foi o mundo então que cresceu<br>\n",
        "A gente quer ter voz ativa<br>\n",
        "No nosso destino mandar<br>\n",
        "Mas eis que chega a roda viva<br>\n",
        "E carrega o destino pra lá<br>\n",
        "<br>\n",
        "Roda mundo, roda-gigante<br>\n",
        "Roda moinho, roda pião<br>\n",
        "<br>\n",
        "O tempo rodou num instante<br>\n",
        "Nas voltas do meu coração<br>\n",
        "A gente vai contra a corrente<br>\n",
        "Até não poder resistir<br>\n",
        "Na volta do barco é que sente<br>\n",
        "O quanto deixou de cumprir<br>\n",
        "Faz tempo que a gente cultiva<br>\n",
        "A mais linda roseira que há<br>\n",
        "Mas eis que chega a roda viva<br>\n",
        "E carrega a roseira pra lá<br>\n",
        "\n",
        "Roda mundo, roda-gigante<br>\n",
        "Roda moinho, roda pião<br>"
      ],
      "execution_count": 2,
      "outputs": [
        {
          "output_type": "stream",
          "name": "stdout",
          "text": [
            "Writing musica.txt<br>\n"
          ]
        }
      ]
    },
    {
      "cell_type": "markdown",
      "metadata": {
        "id": "HV69LMAVGO3J"
      },
      "source": [
        "---"
      ]
    },
    {
      "cell_type": "markdown",
      "metadata": {
        "id": "U4S19ZvHsPcE"
      },
      "source": [
        "## 1\\. Classe para ler arquivos de texto"
      ]
    },
    {
      "cell_type": "markdown",
      "metadata": {
        "id": "HQrKGtoMGjf6"
      },
      "source": [
        "Crie a classe `ArquivoTexto`. Ela deve conter os seguintes atributos:\n",
        "\n",
        "*   `self.arquivo`: Atributo do tipo `str` com o nome do arquivo;\n",
        "*   `self.conteudo`: Atributo do tipo `list` onde cada elemento é uma linha do arquivo;\n",
        "\n",
        "A classe também deve conter o seguinte método:\n",
        "\n",
        "*   `self.extrair_linha`: Método que recebe como parâmetro o número da linha e retorna o seu conteúdo."
      ]
    },
    {
      "cell_type": "code",
      "metadata": {
        "id": "9QFsOQ9ZGXUC"
      },
      "source": [
        "class ArquivoTexto(object):\n",
        "\n",
        "  def __init__(self, arquivo: str):<br>\n",
        "    self.arquivo = arquivo<br>\n",
        "    self.conteudo = self.extrair_linha<br>\n",
        "\n",
        "  def extrair_linha(self, numero_linha: int):<br>\n",
        "    with open(file=self.arquivo, mode='r', encoding='utf-8') as fp:<br>\n",
        "      self.conteudo = fp.readlines()<br>\n",
        "      return self.conteudo[numero_linha-1]<br>"
      ],
      "execution_count": 9,
      "outputs": []
    },
    {
      "cell_type": "markdown",
      "metadata": {
        "id": "866OgsyHHw2M"
      },
      "source": [
        "Utilize o código abaixo para testar sua classe."
      ]
    },
    {
      "cell_type": "code",
      "metadata": {
        "id": "_HV_CE7CH8LO",
        "colab": {
          "base_uri": "https://localhost:8080/"
        },
        "outputId": "d23a5223-4c18-490d-edc2-407edd35bba5"
      },
      "source": [
        "arquivo_texto = ArquivoTexto(arquivo='musica.txt')<br>\n",
        "<br>\n",
        "numero_linha = 1<br>\n",
        "print(arquivo_texto.extrair_linha(numero_linha=numero_linha)) # Roda Viva<br>\n",
        "<br>\n",
        "numero_linha = 10<br>\n",
        "print(arquivo_texto.extrair_linha(numero_linha=numero_linha)) # Mas eis que chega a roda viva<br>"
      ],
      "execution_count": 10,
      "outputs": [
        {
          "output_type": "stream",
          "name": "stdout",
          "text": [
            "Roda Viva<br>\n",
            "<br>\n",
            "Mas eis que chega a roda viva<br>\n",
            "<br>\n"
          ]
        }
      ]
    },
    {
      "cell_type": "markdown",
      "metadata": {
        "id": "zMN1Q3jdwoJm"
      },
      "source": [
        "---"
      ]
    },
    {
      "cell_type": "markdown",
      "metadata": {
        "id": "aQ8euzThIlLl"
      },
      "source": [
        "## 2\\. Classe para ler arquivos de csv"
      ]
    },
    {
      "cell_type": "markdown",
      "metadata": {
        "id": "EMWhvKAWIlL0"
      },
      "source": [
        "Crie a classe `ArquivoCSV`. Ela deve extender (herdar) a classe `ArquivoTexto` para reaproveitar os seus atributos (`self.arquivo` e `self.conteudo`) e método (`self.extrair_linha`). Além disso, adicione o seguinte atributo:\n",
        "\n",
        "*   `self.colunas`: Atributo do tipo `list` onde os elementos são os nome das colunas;\n",
        "\n",
        "A classe também deve conter o seguinte método:\n",
        "\n",
        "*   `self.extrair_coluna_da_linha`: Método que recebe como parâmetro o numero da linha e o indice da coluna e retorna o valor em questão."
      ]
    },
    {
      "cell_type": "code",
      "metadata": {
        "id": "2r3mfEyYIlL0"
      },
      "source": [
        "class ArquivoCSV(ArquivoTexto):<br>\n",
        "<br>\n",
        "  def __init__(self, arquivo: str):<br>\n",
        "<br>\n",
        "    super().__init__(arquivo=arquivo)<br>\n",
        "    self.colunas = self.extrair_linha(1)<br>\n",
        "<br>\n",
        "  def extrair_coluna_da_linha(self, numero_linha: int, numero_coluna: int):<br>\n",
        "    with open(file=self.arquivo, mode='r', encoding='utf-8') as fp:<br>\n",
        "      linhas = fp.readlines()<br>\n",
        "      linha = linhas[numero_linha - 1]<br>\n",
        "      colunas = linha.strip().split(',')<br>\n",
        "      return colunas[numero_coluna - 1]<br>\n",
        "<br>\n",
        "<br>\n",
        "<br>\n",
        "<br>\n",
        "<br>\n"
      ],
      "execution_count": 29,
      "outputs": []
    },
    {
      "cell_type": "markdown",
      "metadata": {
        "id": "jQm_hBETIlL1"
      },
      "source": [
        "Utilize o código abaixo para testar sua classe."
      ]
    },
    {
      "cell_type": "code",
      "metadata": {
        "id": "GKSf1YbcIlL1",
        "colab": {
          "base_uri": "https://localhost:8080/"
        },
        "outputId": "586ca9f0-38d4-4627-e726-0b457ed9494c"
      },
      "source": [
        "arquivo_csv = ArquivoCSV(arquivo='carros.csv')<br>\n",
        "<br>\n",
        "numero_linha = 1<br>\n",
        "print(arquivo_csv.extrair_linha(numero_linha=numero_linha)) # id,valor_venda,valor_manutencao,portas,pessoas,porta_malas<br>\n",
        "<br>\n",
        "print(arquivo_csv.colunas) # ['id', 'valor_venda', 'valor_manutencao', 'portas', 'pessoas', 'porta_malas']<br>\n",
        "<br>\n",
        "numero_linha = 10<br>\n",
        "print(arquivo_csv.extrair_linha(numero_linha=numero_linha)) # 9,low,med,2,2,small<br>\n",
        "<br>\n",
        "numero_linha = 10<br>\n",
        "numero_coluna = 2<br>\n",
        "print(arquivo_csv.extrair_coluna_da_linha(numero_linha=numero_linha, numero_coluna=numero_coluna)) # low<br>"
      ],
      "execution_count": 30,
      "outputs": [
        {
          "output_type": "stream",
          "name": "stdout",
          "text": [
            "id,valor_venda,valor_manutencao,portas,pessoas,porta_malas\n",
            "\n",
            "id,valor_venda,valor_manutencao,portas,pessoas,porta_malas\n",
            "\n",
            "9,low,med,2,2,small\n",
            "\n",
            "low\n"
          ]
        }
      ]
    },
    {
      "cell_type": "markdown",
      "metadata": {
        "id": "78xH4bWUIlL2"
      },
      "source": [
        "---"
      ]
    }
  ]
}
